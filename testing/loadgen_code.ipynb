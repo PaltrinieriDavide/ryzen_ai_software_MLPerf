{
 "cells": [
  {
   "cell_type": "code",
   "execution_count": 11,
   "id": "c691a0de-da12-43ef-be31-ede460643772",
   "metadata": {},
   "outputs": [],
   "source": [
    "!git config --system core.longpaths true"
   ]
  },
  {
   "cell_type": "code",
   "execution_count": 12,
   "id": "dcb7dd59-4a2a-400b-a500-24c599e10af9",
   "metadata": {},
   "outputs": [
    {
     "name": "stdout",
     "output_type": "stream",
     "text": [
      "Requirement already satisfied: absl-py in c:\\users\\iisc\\.conda\\envs\\giulio-m-polimi\\lib\\site-packages (2.2.2)\n",
      "Requirement already satisfied: numpy in c:\\users\\iisc\\.conda\\envs\\giulio-m-polimi\\lib\\site-packages (1.26.4)\n",
      "Submodule path 'language/bert/DeepLearningExamples': checked out 'b03375bd6c2c5233130e61a3be49e26d1a20ac7c'\n",
      "Submodule path 'language/bert/DeepLearningExamples/PyTorch/SpeechRecognition/Jasper/external/tensorrt-inference-server': checked out '71f0771cb8cb2a2eb1c6a9433f9a56dd1f206c96'\n",
      "Submodule path 'language/bert/DeepLearningExamples/PyTorch/Translation/Transformer/cutlass': checked out 'ed2ed4d667ce95e1371bd62db32b6a114e774336'\n"
     ]
    },
    {
     "name": "stderr",
     "output_type": "stream",
     "text": [
      "Cloning into 'mlperf_inference'...\n",
      "Submodule 'language/bert/DeepLearningExamples' (https://github.com/NVIDIA/DeepLearningExamples.git) registered for path 'language/bert/DeepLearningExamples'\n",
      "Cloning into 'C:/Users/iisc/npucloud_userdata/giulio-m-polimi/ryzenaisw/image_classification/mlperf_inference/language/bert/DeepLearningExamples'...\n",
      "Submodule 'PyTorch/SpeechRecognition/Jasper/external/tensorrt-inference-server' (https://github.com/NVIDIA/tensorrt-inference-server.git) registered for path 'language/bert/DeepLearningExamples/PyTorch/SpeechRecognition/Jasper/external/tensorrt-inference-server'\n",
      "Submodule 'PyTorch/Translation/Transformer/cutlass' (https://github.com/NVIDIA/cutlass.git) registered for path 'language/bert/DeepLearningExamples/PyTorch/Translation/Transformer/cutlass'\n",
      "Cloning into 'C:/Users/iisc/npucloud_userdata/giulio-m-polimi/ryzenaisw/image_classification/mlperf_inference/language/bert/DeepLearningExamples/PyTorch/SpeechRecognition/Jasper/external/tensorrt-inference-server'...\n",
      "Cloning into 'C:/Users/iisc/npucloud_userdata/giulio-m-polimi/ryzenaisw/image_classification/mlperf_inference/language/bert/DeepLearningExamples/PyTorch/Translation/Transformer/cutlass'...\n",
      "Submodule 'tools/external/googletest' (https://github.com/google/googletest.git) registered for path 'language/bert/DeepLearningExamples/PyTorch/Translation/Transformer/cutlass/tools/external/googletest'\n",
      "Cloning into 'C:/Users/iisc/npucloud_userdata/giulio-m-polimi/ryzenaisw/image_classification/mlperf_inference/language/bert/DeepLearningExamples/PyTorch/Translation/Transformer/cutlass/tools/external/googletest'...\n",
      "fatal: '$GIT_DIR' too big\n",
      "fatal: remote helper 'https' aborted session\n",
      "fatal: clone of 'https://github.com/google/googletest.git' into submodule path 'C:/Users/iisc/npucloud_userdata/giulio-m-polimi/ryzenaisw/image_classification/mlperf_inference/language/bert/DeepLearningExamples/PyTorch/Translation/Transformer/cutlass/tools/external/googletest' failed\n",
      "Failed to clone 'tools/external/googletest'. Retry scheduled\n",
      "Cloning into 'C:/Users/iisc/npucloud_userdata/giulio-m-polimi/ryzenaisw/image_classification/mlperf_inference/language/bert/DeepLearningExamples/PyTorch/Translation/Transformer/cutlass/tools/external/googletest'...\n",
      "fatal: '$GIT_DIR' too big\n",
      "fatal: remote helper 'https' aborted session\n",
      "fatal: clone of 'https://github.com/google/googletest.git' into submodule path 'C:/Users/iisc/npucloud_userdata/giulio-m-polimi/ryzenaisw/image_classification/mlperf_inference/language/bert/DeepLearningExamples/PyTorch/Translation/Transformer/cutlass/tools/external/googletest' failed\n",
      "Failed to clone 'tools/external/googletest' a second time, aborting\n",
      "fatal: Failed to recurse into submodule path 'language/bert/DeepLearningExamples/PyTorch/Translation/Transformer/cutlass'\n",
      "fatal: Failed to recurse into submodule path 'language/bert/DeepLearningExamples'\n",
      "The system cannot find the path specified.\n"
     ]
    }
   ],
   "source": [
    "!pip install absl-py numpy\n",
    "!git clone --recurse-submodules https://github.com/mlcommons/inference.git mlperf_inference"
   ]
  },
  {
   "cell_type": "code",
   "execution_count": 24,
   "id": "06da6ec0-d4f6-48dc-bea1-17d2bab2cdf6",
   "metadata": {},
   "outputs": [
    {
     "name": "stdout",
     "output_type": "stream",
     "text": [
      "Processing c:\\users\\iisc\\npucloud_userdata\\giulio-m-polimi\\ryzenaisw\\image_classification\\mlperf_inference\\loadgen\n",
      "  Installing build dependencies: started\n",
      "  Installing build dependencies: finished with status 'done'\n",
      "  Getting requirements to build wheel: started\n",
      "  Getting requirements to build wheel: finished with status 'done'\n",
      "  Preparing metadata (pyproject.toml): started\n",
      "  Preparing metadata (pyproject.toml): finished with status 'done'\n",
      "Building wheels for collected packages: mlcommons_loadgen\n",
      "  Building wheel for mlcommons_loadgen (pyproject.toml): started\n",
      "  Building wheel for mlcommons_loadgen (pyproject.toml): finished with status 'done'\n",
      "  Created wheel for mlcommons_loadgen: filename=mlcommons_loadgen-5.0.16-cp310-cp310-win_amd64.whl size=309110 sha256=61d023522ed52fde38bbc08af6f1cc553f1d405283ed92ab5d4da41d1aeedfda\n",
      "  Stored in directory: C:\\Users\\iisc\\AppData\\Local\\Temp\\pip-ephem-wheel-cache-g6kan08a\\wheels\\c0\\e6\\be\\6d845ff3a61b447acefd46907b5b3e300f550a6822a5b2d332\n",
      "Successfully built mlcommons_loadgen\n",
      "Installing collected packages: mlcommons_loadgen\n",
      "  Attempting uninstall: mlcommons_loadgen\n",
      "    Found existing installation: mlcommons_loadgen 5.0.16\n",
      "    Uninstalling mlcommons_loadgen-5.0.16:\n",
      "      Successfully uninstalled mlcommons_loadgen-5.0.16\n",
      "Successfully installed mlcommons_loadgen-5.0.16\n"
     ]
    }
   ],
   "source": [
    "import os\n",
    "os.environ[\"CFLAGS\"] = \"-std=c++14 -O3\"\n",
    "\n",
    "# install directly from that folder\n",
    "!python -m pip install ./mlperf_inference/loadgen"
   ]
  },
  {
   "cell_type": "code",
   "execution_count": 1,
   "id": "2b25c5c3-e19e-4264-973c-42a6e273db1f",
   "metadata": {},
   "outputs": [],
   "source": [
    "!python mlperf_inference/loadgen/demos/py_demo_offline.py"
   ]
  },
  {
   "cell_type": "code",
   "execution_count": 3,
   "id": "2416be75-c936-4e45-9315-d9b960d2bcea",
   "metadata": {},
   "outputs": [],
   "source": [
    "!python mlperf_inference/loadgen/demos/py_demo_single_stream.py"
   ]
  },
  {
   "cell_type": "code",
   "execution_count": null,
   "id": "f99b75b4-444c-454b-ba5a-613676c86031",
   "metadata": {},
   "outputs": [],
   "source": []
  }
 ],
 "metadata": {
  "kernelspec": {
   "display_name": "Python 3 (ipykernel)",
   "language": "python",
   "name": "python3"
  },
  "language_info": {
   "codemirror_mode": {
    "name": "ipython",
    "version": 3
   },
   "file_extension": ".py",
   "mimetype": "text/x-python",
   "name": "python",
   "nbconvert_exporter": "python",
   "pygments_lexer": "ipython3",
   "version": "3.10.17"
  }
 },
 "nbformat": 4,
 "nbformat_minor": 5
}
